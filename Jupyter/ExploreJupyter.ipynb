{
 "cells": [
  {
   "cell_type": "code",
   "execution_count": 2,
   "id": "cc027180-1f00-4558-af62-4da04112e30f",
   "metadata": {},
   "outputs": [
    {
     "name": "stdout",
     "output_type": "stream",
     "text": [
      "9\n"
     ]
    }
   ],
   "source": [
    "a = 1 + 2 * 4\n",
    "print(a)"
   ]
  },
  {
   "cell_type": "markdown",
   "id": "d4ac6708-600b-491e-93b4-5de4a251b8c2",
   "metadata": {},
   "source": [
    "# The first notebook\n",
    "We can add comments next to our code"
   ]
  },
  {
   "cell_type": "code",
   "execution_count": null,
   "id": "28e5d921-b41a-459e-9942-c4315ff5e95d",
   "metadata": {},
   "outputs": [],
   "source": []
  }
 ],
 "metadata": {
  "kernelspec": {
   "display_name": "Python 3 (ipykernel)",
   "language": "python",
   "name": "python3"
  },
  "language_info": {
   "codemirror_mode": {
    "name": "ipython",
    "version": 3
   },
   "file_extension": ".py",
   "mimetype": "text/x-python",
   "name": "python",
   "nbconvert_exporter": "python",
   "pygments_lexer": "ipython3",
   "version": "3.11.0"
  }
 },
 "nbformat": 4,
 "nbformat_minor": 5
}
