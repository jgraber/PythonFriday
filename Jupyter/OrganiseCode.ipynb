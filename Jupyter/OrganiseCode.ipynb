{
 "cells": [
  {
   "cell_type": "markdown",
   "id": "69d267ec-5968-44e8-892d-4859ece9b984",
   "metadata": {},
   "source": [
    "Small code snippets go directly in the notebook"
   ]
  },
  {
   "cell_type": "code",
   "execution_count": 1,
   "id": "48d3e6ec-d626-47ab-a110-0df5a46245ec",
   "metadata": {},
   "outputs": [],
   "source": [
    "def add(a, b):\n",
    "    return a + b"
   ]
  },
  {
   "cell_type": "code",
   "execution_count": 2,
   "id": "7da645f5-43fd-4f00-8f92-fca6614cebd8",
   "metadata": {},
   "outputs": [
    {
     "data": {
      "text/plain": [
       "3"
      ]
     },
     "execution_count": 2,
     "metadata": {},
     "output_type": "execute_result"
    }
   ],
   "source": [
    "add(1, 2)"
   ]
  },
  {
   "cell_type": "code",
   "execution_count": null,
   "id": "8bb20edf-ec7a-44ae-a5e6-ba19de8a00bd",
   "metadata": {},
   "outputs": [],
   "source": []
  }
 ],
 "metadata": {
  "kernelspec": {
   "display_name": "Python 3 (ipykernel)",
   "language": "python",
   "name": "python3"
  },
  "language_info": {
   "codemirror_mode": {
    "name": "ipython",
    "version": 3
   },
   "file_extension": ".py",
   "mimetype": "text/x-python",
   "name": "python",
   "nbconvert_exporter": "python",
   "pygments_lexer": "ipython3",
   "version": "3.11.0"
  }
 },
 "nbformat": 4,
 "nbformat_minor": 5
}
