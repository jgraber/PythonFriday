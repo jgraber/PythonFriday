{
 "cells": [
  {
   "cell_type": "markdown",
   "id": "69d267ec-5968-44e8-892d-4859ece9b984",
   "metadata": {},
   "source": [
    "Small code snippets go directly in the notebook"
   ]
  },
  {
   "cell_type": "code",
   "execution_count": 1,
   "id": "48d3e6ec-d626-47ab-a110-0df5a46245ec",
   "metadata": {},
   "outputs": [],
   "source": [
    "def add(a, b):\n",
    "    return a + b"
   ]
  },
  {
   "cell_type": "code",
   "execution_count": 2,
   "id": "7da645f5-43fd-4f00-8f92-fca6614cebd8",
   "metadata": {},
   "outputs": [
    {
     "data": {
      "text/plain": [
       "3"
      ]
     },
     "execution_count": 2,
     "metadata": {},
     "output_type": "execute_result"
    }
   ],
   "source": [
    "add(1, 2)"
   ]
  },
  {
   "cell_type": "markdown",
   "id": "911aff48-bacc-4b46-8869-e23fab8cb7f8",
   "metadata": {},
   "source": [
    "Larger code goes into a regular Python file"
   ]
  },
  {
   "cell_type": "code",
   "execution_count": 3,
   "id": "8bb20edf-ec7a-44ae-a5e6-ba19de8a00bd",
   "metadata": {},
   "outputs": [],
   "source": [
    "import os, sys\n",
    "code_dir = os.path.abspath(os.path.join(os.getcwd(), 'code'))\n",
    "sys.path.insert(0, code_dir)"
   ]
  },
  {
   "cell_type": "code",
   "execution_count": 4,
   "id": "96eabb0d-8dac-46ff-88c9-1c26e7ee938d",
   "metadata": {},
   "outputs": [],
   "source": [
    "from fizzbuzz import fizz_buzz"
   ]
  },
  {
   "cell_type": "code",
   "execution_count": 5,
   "id": "50183ab4-91f7-452a-b69b-48c2c27f6161",
   "metadata": {},
   "outputs": [
    {
     "data": {
      "text/plain": [
       "'Fizz'"
      ]
     },
     "execution_count": 5,
     "metadata": {},
     "output_type": "execute_result"
    }
   ],
   "source": [
    "fizz_buzz(18)"
   ]
  },
  {
   "cell_type": "markdown",
   "id": "a2d8d276-6e6e-4fc9-9d6d-3cf774d7270d",
   "metadata": {},
   "source": [
    "We can load our data from outside the notebook"
   ]
  },
  {
   "cell_type": "code",
   "execution_count": 6,
   "id": "45db4084-4db8-4ff2-95ff-48367a8a6cf8",
   "metadata": {},
   "outputs": [],
   "source": [
    "#import os\n",
    "data_file = os.path.abspath(os.path.join(os.getcwd(), 'data', 'project_size.csv'))"
   ]
  },
  {
   "cell_type": "code",
   "execution_count": 7,
   "id": "d63bf3b0-84fa-4195-9abc-ea92e632e16b",
   "metadata": {},
   "outputs": [],
   "source": [
    "import pandas as pd\n",
    " \n",
    "df = pd.read_csv(data_file, delimiter=';')"
   ]
  },
  {
   "cell_type": "code",
   "execution_count": 8,
   "id": "ddb775d2-f3e8-40bd-96ac-7111d20e4a8f",
   "metadata": {},
   "outputs": [
    {
     "data": {
      "text/html": [
       "<div>\n",
       "<style scoped>\n",
       "    .dataframe tbody tr th:only-of-type {\n",
       "        vertical-align: middle;\n",
       "    }\n",
       "\n",
       "    .dataframe tbody tr th {\n",
       "        vertical-align: top;\n",
       "    }\n",
       "\n",
       "    .dataframe thead th {\n",
       "        text-align: right;\n",
       "    }\n",
       "</style>\n",
       "<table border=\"1\" class=\"dataframe\">\n",
       "  <thead>\n",
       "    <tr style=\"text-align: right;\">\n",
       "      <th></th>\n",
       "      <th>month</th>\n",
       "      <th>project</th>\n",
       "      <th>loc</th>\n",
       "    </tr>\n",
       "  </thead>\n",
       "  <tbody>\n",
       "    <tr>\n",
       "      <th>0</th>\n",
       "      <td>2021.01</td>\n",
       "      <td>A</td>\n",
       "      <td>100</td>\n",
       "    </tr>\n",
       "    <tr>\n",
       "      <th>1</th>\n",
       "      <td>2021.01</td>\n",
       "      <td>B</td>\n",
       "      <td>1000</td>\n",
       "    </tr>\n",
       "    <tr>\n",
       "      <th>2</th>\n",
       "      <td>2021.01</td>\n",
       "      <td>C</td>\n",
       "      <td>1100</td>\n",
       "    </tr>\n",
       "    <tr>\n",
       "      <th>3</th>\n",
       "      <td>2021.02</td>\n",
       "      <td>A</td>\n",
       "      <td>200</td>\n",
       "    </tr>\n",
       "    <tr>\n",
       "      <th>4</th>\n",
       "      <td>2021.02</td>\n",
       "      <td>B</td>\n",
       "      <td>2100</td>\n",
       "    </tr>\n",
       "    <tr>\n",
       "      <th>5</th>\n",
       "      <td>2021.02</td>\n",
       "      <td>C</td>\n",
       "      <td>1100</td>\n",
       "    </tr>\n",
       "    <tr>\n",
       "      <th>6</th>\n",
       "      <td>2021.03</td>\n",
       "      <td>A</td>\n",
       "      <td>500</td>\n",
       "    </tr>\n",
       "    <tr>\n",
       "      <th>7</th>\n",
       "      <td>2021.03</td>\n",
       "      <td>B</td>\n",
       "      <td>2100</td>\n",
       "    </tr>\n",
       "    <tr>\n",
       "      <th>8</th>\n",
       "      <td>2021.03</td>\n",
       "      <td>C</td>\n",
       "      <td>3100</td>\n",
       "    </tr>\n",
       "    <tr>\n",
       "      <th>9</th>\n",
       "      <td>2021.04</td>\n",
       "      <td>A</td>\n",
       "      <td>1000</td>\n",
       "    </tr>\n",
       "    <tr>\n",
       "      <th>10</th>\n",
       "      <td>2021.04</td>\n",
       "      <td>B</td>\n",
       "      <td>5000</td>\n",
       "    </tr>\n",
       "    <tr>\n",
       "      <th>11</th>\n",
       "      <td>2021.04</td>\n",
       "      <td>C</td>\n",
       "      <td>4100</td>\n",
       "    </tr>\n",
       "  </tbody>\n",
       "</table>\n",
       "</div>"
      ],
      "text/plain": [
       "      month project   loc\n",
       "0   2021.01       A   100\n",
       "1   2021.01       B  1000\n",
       "2   2021.01       C  1100\n",
       "3   2021.02       A   200\n",
       "4   2021.02       B  2100\n",
       "5   2021.02       C  1100\n",
       "6   2021.03       A   500\n",
       "7   2021.03       B  2100\n",
       "8   2021.03       C  3100\n",
       "9   2021.04       A  1000\n",
       "10  2021.04       B  5000\n",
       "11  2021.04       C  4100"
      ]
     },
     "execution_count": 8,
     "metadata": {},
     "output_type": "execute_result"
    }
   ],
   "source": [
    "df"
   ]
  },
  {
   "cell_type": "code",
   "execution_count": null,
   "id": "a0c3bb30-1801-4de8-9cc0-5266e54fe8cf",
   "metadata": {},
   "outputs": [],
   "source": []
  }
 ],
 "metadata": {
  "kernelspec": {
   "display_name": "Python 3 (ipykernel)",
   "language": "python",
   "name": "python3"
  },
  "language_info": {
   "codemirror_mode": {
    "name": "ipython",
    "version": 3
   },
   "file_extension": ".py",
   "mimetype": "text/x-python",
   "name": "python",
   "nbconvert_exporter": "python",
   "pygments_lexer": "ipython3",
   "version": "3.11.0"
  }
 },
 "nbformat": 4,
 "nbformat_minor": 5
}
