{
 "cells": [
  {
   "cell_type": "markdown",
   "id": "efab5b0a-1725-4d10-ac44-70fa15a5adc7",
   "metadata": {},
   "source": [
    "# Magic commands for Juptyter notebooks"
   ]
  },
  {
   "cell_type": "markdown",
   "id": "bc19aabd-1c4e-44a5-9b3b-0e3f8a137bdc",
   "metadata": {},
   "source": [
    "## Auto complete\n",
    "Use Tab after the first few charaters of the method name"
   ]
  },
  {
   "cell_type": "markdown",
   "id": "191349cf-2462-427a-88d0-5631d98548e4",
   "metadata": {},
   "source": [
    "## Toggle line numbers\n",
    "Hit L in Command mode (when no cell is selected) to toggle line numbers"
   ]
  },
  {
   "cell_type": "markdown",
   "id": "4711a0ba-9462-474a-b6ab-ac431328f2d3",
   "metadata": {},
   "source": [
    "## Help\n",
    "Shift+Tab or ? at the end of a method"
   ]
  },
  {
   "cell_type": "code",
   "execution_count": 1,
   "id": "b649a6cf-ab17-4590-ae9a-f8d7ed3a2196",
   "metadata": {},
   "outputs": [
    {
     "data": {
      "text/plain": [
       "\u001b[1;31mSignature:\u001b[0m \u001b[0msns\u001b[0m\u001b[1;33m.\u001b[0m\u001b[0mload_dataset\u001b[0m\u001b[1;33m(\u001b[0m\u001b[0mname\u001b[0m\u001b[1;33m,\u001b[0m \u001b[0mcache\u001b[0m\u001b[1;33m=\u001b[0m\u001b[1;32mTrue\u001b[0m\u001b[1;33m,\u001b[0m \u001b[0mdata_home\u001b[0m\u001b[1;33m=\u001b[0m\u001b[1;32mNone\u001b[0m\u001b[1;33m,\u001b[0m \u001b[1;33m**\u001b[0m\u001b[0mkws\u001b[0m\u001b[1;33m)\u001b[0m\u001b[1;33m\u001b[0m\u001b[1;33m\u001b[0m\u001b[0m\n",
       "\u001b[1;31mDocstring:\u001b[0m\n",
       "Load an example dataset from the online repository (requires internet).\n",
       "\n",
       "This function provides quick access to a small number of example datasets\n",
       "that are useful for documenting seaborn or generating reproducible examples\n",
       "for bug reports. It is not necessary for normal usage.\n",
       "\n",
       "Note that some of the datasets have a small amount of preprocessing applied\n",
       "to define a proper ordering for categorical variables.\n",
       "\n",
       "Use :func:`get_dataset_names` to see a list of available datasets.\n",
       "\n",
       "Parameters\n",
       "----------\n",
       "name : str\n",
       "    Name of the dataset (``{name}.csv`` on\n",
       "    https://github.com/mwaskom/seaborn-data).\n",
       "cache : boolean, optional\n",
       "    If True, try to load from the local cache first, and save to the cache\n",
       "    if a download is required.\n",
       "data_home : string, optional\n",
       "    The directory in which to cache data; see :func:`get_data_home`.\n",
       "kws : keys and values, optional\n",
       "    Additional keyword arguments are passed to passed through to\n",
       "    :func:`pandas.read_csv`.\n",
       "\n",
       "Returns\n",
       "-------\n",
       "df : :class:`pandas.DataFrame`\n",
       "    Tabular data, possibly with some preprocessing applied.\n",
       "\u001b[1;31mFile:\u001b[0m      c:\\users\\jgraber\\appdata\\local\\programs\\python\\python311\\lib\\site-packages\\seaborn\\utils.py\n",
       "\u001b[1;31mType:\u001b[0m      function"
      ]
     },
     "metadata": {},
     "output_type": "display_data"
    }
   ],
   "source": [
    "import seaborn as sns\n",
    "sns.load_dataset?"
   ]
  },
  {
   "cell_type": "code",
   "execution_count": 2,
   "id": "5f378445-11db-4459-b553-5e401a6863b3",
   "metadata": {},
   "outputs": [],
   "source": [
    "#sns.load_dataset"
   ]
  },
  {
   "cell_type": "markdown",
   "id": "dd7cda19-0d6a-4832-a990-52a80ff614d0",
   "metadata": {
    "tags": []
   },
   "source": [
    "## %lsmagic\n",
    "List the available magic commands for Jupyter notebooks"
   ]
  },
  {
   "cell_type": "code",
   "execution_count": 3,
   "id": "5d93deb2-5338-4737-9c2e-d0f0fde7fe62",
   "metadata": {},
   "outputs": [
    {
     "data": {
      "application/json": {
       "cell": {
        "!": "OSMagics",
        "HTML": "Other",
        "SVG": "Other",
        "bash": "Other",
        "capture": "ExecutionMagics",
        "cmd": "Other",
        "debug": "ExecutionMagics",
        "file": "Other",
        "html": "DisplayMagics",
        "javascript": "DisplayMagics",
        "js": "DisplayMagics",
        "latex": "DisplayMagics",
        "markdown": "DisplayMagics",
        "perl": "Other",
        "prun": "ExecutionMagics",
        "pypy": "Other",
        "python": "Other",
        "python2": "Other",
        "python3": "Other",
        "ruby": "Other",
        "script": "ScriptMagics",
        "sh": "Other",
        "svg": "DisplayMagics",
        "sx": "OSMagics",
        "system": "OSMagics",
        "time": "ExecutionMagics",
        "timeit": "ExecutionMagics",
        "writefile": "OSMagics"
       },
       "line": {
        "alias": "OSMagics",
        "alias_magic": "BasicMagics",
        "autoawait": "AsyncMagics",
        "autocall": "AutoMagics",
        "automagic": "AutoMagics",
        "autosave": "KernelMagics",
        "bookmark": "OSMagics",
        "cd": "OSMagics",
        "clear": "KernelMagics",
        "cls": "KernelMagics",
        "colors": "BasicMagics",
        "conda": "PackagingMagics",
        "config": "ConfigMagics",
        "connect_info": "KernelMagics",
        "copy": "Other",
        "ddir": "Other",
        "debug": "ExecutionMagics",
        "dhist": "OSMagics",
        "dirs": "OSMagics",
        "doctest_mode": "BasicMagics",
        "echo": "Other",
        "ed": "Other",
        "edit": "KernelMagics",
        "env": "OSMagics",
        "gui": "BasicMagics",
        "hist": "Other",
        "history": "HistoryMagics",
        "killbgscripts": "ScriptMagics",
        "ldir": "Other",
        "less": "KernelMagics",
        "load": "CodeMagics",
        "load_ext": "ExtensionMagics",
        "loadpy": "CodeMagics",
        "logoff": "LoggingMagics",
        "logon": "LoggingMagics",
        "logstart": "LoggingMagics",
        "logstate": "LoggingMagics",
        "logstop": "LoggingMagics",
        "ls": "Other",
        "lsmagic": "BasicMagics",
        "macro": "ExecutionMagics",
        "magic": "BasicMagics",
        "matplotlib": "PylabMagics",
        "mkdir": "Other",
        "more": "KernelMagics",
        "notebook": "BasicMagics",
        "page": "BasicMagics",
        "pastebin": "CodeMagics",
        "pdb": "ExecutionMagics",
        "pdef": "NamespaceMagics",
        "pdoc": "NamespaceMagics",
        "pfile": "NamespaceMagics",
        "pinfo": "NamespaceMagics",
        "pinfo2": "NamespaceMagics",
        "pip": "PackagingMagics",
        "popd": "OSMagics",
        "pprint": "BasicMagics",
        "precision": "BasicMagics",
        "prun": "ExecutionMagics",
        "psearch": "NamespaceMagics",
        "psource": "NamespaceMagics",
        "pushd": "OSMagics",
        "pwd": "OSMagics",
        "pycat": "OSMagics",
        "pylab": "PylabMagics",
        "qtconsole": "KernelMagics",
        "quickref": "BasicMagics",
        "recall": "HistoryMagics",
        "rehashx": "OSMagics",
        "reload_ext": "ExtensionMagics",
        "ren": "Other",
        "rep": "Other",
        "rerun": "HistoryMagics",
        "reset": "NamespaceMagics",
        "reset_selective": "NamespaceMagics",
        "rmdir": "Other",
        "run": "ExecutionMagics",
        "save": "CodeMagics",
        "sc": "OSMagics",
        "set_env": "OSMagics",
        "store": "StoreMagics",
        "sx": "OSMagics",
        "system": "OSMagics",
        "tb": "ExecutionMagics",
        "time": "ExecutionMagics",
        "timeit": "ExecutionMagics",
        "unalias": "OSMagics",
        "unload_ext": "ExtensionMagics",
        "who": "NamespaceMagics",
        "who_ls": "NamespaceMagics",
        "whos": "NamespaceMagics",
        "xdel": "NamespaceMagics",
        "xmode": "BasicMagics"
       }
      },
      "text/plain": [
       "Available line magics:\n",
       "%alias  %alias_magic  %autoawait  %autocall  %automagic  %autosave  %bookmark  %cd  %clear  %cls  %colors  %conda  %config  %connect_info  %copy  %ddir  %debug  %dhist  %dirs  %doctest_mode  %echo  %ed  %edit  %env  %gui  %hist  %history  %killbgscripts  %ldir  %less  %load  %load_ext  %loadpy  %logoff  %logon  %logstart  %logstate  %logstop  %ls  %lsmagic  %macro  %magic  %matplotlib  %mkdir  %more  %notebook  %page  %pastebin  %pdb  %pdef  %pdoc  %pfile  %pinfo  %pinfo2  %pip  %popd  %pprint  %precision  %prun  %psearch  %psource  %pushd  %pwd  %pycat  %pylab  %qtconsole  %quickref  %recall  %rehashx  %reload_ext  %ren  %rep  %rerun  %reset  %reset_selective  %rmdir  %run  %save  %sc  %set_env  %store  %sx  %system  %tb  %time  %timeit  %unalias  %unload_ext  %who  %who_ls  %whos  %xdel  %xmode\n",
       "\n",
       "Available cell magics:\n",
       "%%!  %%HTML  %%SVG  %%bash  %%capture  %%cmd  %%debug  %%file  %%html  %%javascript  %%js  %%latex  %%markdown  %%perl  %%prun  %%pypy  %%python  %%python2  %%python3  %%ruby  %%script  %%sh  %%svg  %%sx  %%system  %%time  %%timeit  %%writefile\n",
       "\n",
       "Automagic is ON, % prefix IS NOT needed for line magics."
      ]
     },
     "execution_count": 3,
     "metadata": {},
     "output_type": "execute_result"
    }
   ],
   "source": [
    "%lsmagic"
   ]
  },
  {
   "cell_type": "code",
   "execution_count": 4,
   "id": "dd0a9d06-cc38-4476-b44e-b448bbce1168",
   "metadata": {},
   "outputs": [
    {
     "data": {
      "text/plain": [
       "\u001b[1;31mDocstring:\u001b[0m\n",
       "Re-run previous input\n",
       "\n",
       "By default, you can specify ranges of input history to be repeated\n",
       "(as with %history). With no arguments, it will repeat the last line.\n",
       "\n",
       "Options:\n",
       "\n",
       "  -l <n> : Repeat the last n lines of input, not including the\n",
       "  current command.\n",
       "\n",
       "  -g foo : Repeat the most recent line which contains foo\n",
       "\u001b[1;31mFile:\u001b[0m      c:\\users\\jgraber\\appdata\\local\\programs\\python\\python311\\lib\\site-packages\\ipython\\core\\magics\\history.py"
      ]
     },
     "metadata": {},
     "output_type": "display_data"
    }
   ],
   "source": [
    "%rerun?"
   ]
  },
  {
   "cell_type": "markdown",
   "id": "d9a3018d-8d5b-441b-9c9a-69191c0714cf",
   "metadata": {
    "tags": []
   },
   "source": [
    "## %env\n",
    "Work with the environment variables"
   ]
  },
  {
   "cell_type": "code",
   "execution_count": 5,
   "id": "db089b6c-6194-4e61-a198-452ca2921147",
   "metadata": {},
   "outputs": [
    {
     "data": {
      "text/plain": [
       "'C:\\\\Users\\\\jgraber\\\\AppData\\\\Local\\\\Temp'"
      ]
     },
     "execution_count": 5,
     "metadata": {},
     "output_type": "execute_result"
    }
   ],
   "source": [
    "%env Temp"
   ]
  },
  {
   "cell_type": "code",
   "execution_count": 6,
   "id": "57883bd0-7753-4bea-9e68-95e7b58c5d6f",
   "metadata": {},
   "outputs": [
    {
     "name": "stdout",
     "output_type": "stream",
     "text": [
      "env: KEY=1234\n"
     ]
    }
   ],
   "source": [
    "%env KEY 1234"
   ]
  },
  {
   "cell_type": "code",
   "execution_count": 7,
   "id": "35af657d-af69-46f1-a509-ee78270f6fa3",
   "metadata": {},
   "outputs": [
    {
     "data": {
      "text/plain": [
       "'1234'"
      ]
     },
     "execution_count": 7,
     "metadata": {},
     "output_type": "execute_result"
    }
   ],
   "source": [
    "%env KEY"
   ]
  },
  {
   "cell_type": "markdown",
   "id": "8538cf26-749a-4a11-bdde-b3c8616df9ab",
   "metadata": {},
   "source": [
    "## %hist\n",
    "Shows the last run commands"
   ]
  },
  {
   "cell_type": "code",
   "execution_count": 8,
   "id": "440f3725-1f4c-45cb-9922-5d37f5aa101d",
   "metadata": {},
   "outputs": [
    {
     "name": "stdout",
     "output_type": "stream",
     "text": [
      "import seaborn as sns\n",
      "sns.load_dataset?\n",
      "#sns.load_dataset\n",
      "%lsmagic\n",
      "%rerun?\n",
      "%env Temp\n",
      "%env KEY 1234\n",
      "%env KEY\n",
      "%hist\n"
     ]
    }
   ],
   "source": [
    "%hist"
   ]
  },
  {
   "cell_type": "markdown",
   "id": "79ec91be-84ee-464f-b508-e5be9f5c0b7c",
   "metadata": {},
   "source": [
    "## %%cmd\n",
    "Is a cell magic command that runs the remaining part of the cell in the command prompt"
   ]
  },
  {
   "cell_type": "code",
   "execution_count": 9,
   "id": "a798c738-988b-4f38-aa9c-bec94fc84564",
   "metadata": {
    "tags": []
   },
   "outputs": [
    {
     "name": "stdout",
     "output_type": "stream",
     "text": [
      "Microsoft Windows [Version 10.0.19045.3086]\n",
      "(c) Microsoft Corporation. Alle Rechte vorbehalten.\n",
      "\n",
      "C:\\__CODE\\__GitHub\\PythonFriday\\Jupyter>git branch\n",
      "* main\n",
      "\n",
      "C:\\__CODE\\__GitHub\\PythonFriday\\Jupyter>"
     ]
    }
   ],
   "source": [
    "%%cmd \n",
    "git branch"
   ]
  },
  {
   "cell_type": "markdown",
   "id": "abd956cc-dcdf-4581-84c1-8befc59cd871",
   "metadata": {},
   "source": [
    "## %time\n",
    "Shows how long a statement took"
   ]
  },
  {
   "cell_type": "code",
   "execution_count": 10,
   "id": "7373e315-6dff-45e5-a7b5-45eb38a0398d",
   "metadata": {},
   "outputs": [],
   "source": [
    "import time"
   ]
  },
  {
   "cell_type": "code",
   "execution_count": 11,
   "id": "d263a6f5-6c4f-4dca-967a-34630be2a3e4",
   "metadata": {},
   "outputs": [],
   "source": [
    "def slow():\n",
    "    time.sleep(5)"
   ]
  },
  {
   "cell_type": "code",
   "execution_count": 12,
   "id": "aa3416c9-9cb7-4c9a-b9a7-971dac3023f0",
   "metadata": {},
   "outputs": [
    {
     "name": "stdout",
     "output_type": "stream",
     "text": [
      "CPU times: total: 0 ns\n",
      "Wall time: 5 s\n"
     ]
    }
   ],
   "source": [
    "%time slow()"
   ]
  },
  {
   "cell_type": "markdown",
   "id": "861bef3a-c166-491d-b2ec-56f1c5607fbd",
   "metadata": {},
   "source": [
    "## %timeit\n",
    "Run a statement multiple times to get a more accurate runtime info"
   ]
  },
  {
   "cell_type": "code",
   "execution_count": 13,
   "id": "2eb33ead-c4b6-49db-994a-82cae0a3abe7",
   "metadata": {},
   "outputs": [
    {
     "name": "stdout",
     "output_type": "stream",
     "text": [
      "5 s ± 987 µs per loop (mean ± std. dev. of 7 runs, 1 loop each)\n"
     ]
    }
   ],
   "source": [
    "%timeit slow()"
   ]
  },
  {
   "cell_type": "markdown",
   "id": "a576c937-d313-4fb1-83d9-a01e2162fa5d",
   "metadata": {
    "tags": []
   },
   "source": [
    "## %memit\n",
    "Measure the memory usage of a statement"
   ]
  },
  {
   "cell_type": "code",
   "execution_count": 14,
   "id": "28ed5ad6-8c55-44c4-aeb6-9d01420ca5f0",
   "metadata": {},
   "outputs": [],
   "source": [
    "%load_ext memory_profiler"
   ]
  },
  {
   "cell_type": "code",
   "execution_count": 15,
   "id": "1ecc9f6c-26fc-4332-8be9-abfe90554308",
   "metadata": {},
   "outputs": [
    {
     "name": "stdout",
     "output_type": "stream",
     "text": [
      "peak memory: 182.30 MiB, increment: 0.16 MiB\n"
     ]
    }
   ],
   "source": [
    "%memit slow()"
   ]
  },
  {
   "cell_type": "markdown",
   "id": "c0fe2dde-3777-49ee-a6a0-f31efd61c9a8",
   "metadata": {},
   "source": [
    "## %prun \n",
    "Run a statement through the Python code profiler."
   ]
  },
  {
   "cell_type": "code",
   "execution_count": 16,
   "id": "da6b2bd6-a50c-4647-b337-c75fd0394911",
   "metadata": {},
   "outputs": [],
   "source": [
    "def slower():\n",
    "    time.sleep(1)\n",
    "    slow()\n",
    "    time.sleep(2)"
   ]
  },
  {
   "cell_type": "code",
   "execution_count": 17,
   "id": "54ee6ffb-3c3e-490b-961f-fea878890543",
   "metadata": {},
   "outputs": [
    {
     "name": "stdout",
     "output_type": "stream",
     "text": [
      " "
     ]
    },
    {
     "data": {
      "text/plain": [
       "         8 function calls in 8.009 seconds\n",
       "\n",
       "   Ordered by: internal time\n",
       "\n",
       "   ncalls  tottime  percall  cumtime  percall filename:lineno(function)\n",
       "        3    8.008    2.669    8.008    2.669 {built-in method time.sleep}\n",
       "        1    0.000    0.000    8.009    8.009 {built-in method builtins.exec}\n",
       "        1    0.000    0.000    8.009    8.009 946566879.py:1(slower)\n",
       "        1    0.000    0.000    5.002    5.002 1030477420.py:1(slow)\n",
       "        1    0.000    0.000    8.009    8.009 <string>:1(<module>)\n",
       "        1    0.000    0.000    0.000    0.000 {method 'disable' of '_lsprof.Profiler' objects}"
      ]
     },
     "metadata": {},
     "output_type": "display_data"
    }
   ],
   "source": [
    "%prun slower()"
   ]
  }
 ],
 "metadata": {
  "kernelspec": {
   "display_name": "Python 3 (ipykernel)",
   "language": "python",
   "name": "python3"
  },
  "language_info": {
   "codemirror_mode": {
    "name": "ipython",
    "version": 3
   },
   "file_extension": ".py",
   "mimetype": "text/x-python",
   "name": "python",
   "nbconvert_exporter": "python",
   "pygments_lexer": "ipython3",
   "version": "3.11.3"
  }
 },
 "nbformat": 4,
 "nbformat_minor": 5
}
