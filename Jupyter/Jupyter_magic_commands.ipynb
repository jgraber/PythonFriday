{
 "cells": [
  {
   "cell_type": "markdown",
   "id": "efab5b0a-1725-4d10-ac44-70fa15a5adc7",
   "metadata": {},
   "source": [
    "# Magic commands for Juptyter notebooks"
   ]
  },
  {
   "cell_type": "markdown",
   "id": "abd956cc-dcdf-4581-84c1-8befc59cd871",
   "metadata": {},
   "source": [
    "## %time\n",
    "Shows how long a statement took"
   ]
  },
  {
   "cell_type": "code",
   "execution_count": 1,
   "id": "7373e315-6dff-45e5-a7b5-45eb38a0398d",
   "metadata": {},
   "outputs": [],
   "source": [
    "import time"
   ]
  },
  {
   "cell_type": "code",
   "execution_count": 2,
   "id": "d263a6f5-6c4f-4dca-967a-34630be2a3e4",
   "metadata": {},
   "outputs": [],
   "source": [
    "def slow():\n",
    "    time.sleep(5)"
   ]
  },
  {
   "cell_type": "code",
   "execution_count": 3,
   "id": "aa3416c9-9cb7-4c9a-b9a7-971dac3023f0",
   "metadata": {},
   "outputs": [
    {
     "name": "stdout",
     "output_type": "stream",
     "text": [
      "CPU times: total: 31.2 ms\n",
      "Wall time: 5 s\n"
     ]
    }
   ],
   "source": [
    "%time slow()"
   ]
  },
  {
   "cell_type": "markdown",
   "id": "861bef3a-c166-491d-b2ec-56f1c5607fbd",
   "metadata": {},
   "source": [
    "## %timeit\n",
    "Run a statement multiple times to get a more accurate runtime info"
   ]
  },
  {
   "cell_type": "code",
   "execution_count": 4,
   "id": "2eb33ead-c4b6-49db-994a-82cae0a3abe7",
   "metadata": {},
   "outputs": [
    {
     "name": "stdout",
     "output_type": "stream",
     "text": [
      "5 s ± 1.08 ms per loop (mean ± std. dev. of 7 runs, 1 loop each)\n"
     ]
    }
   ],
   "source": [
    "%timeit slow()"
   ]
  },
  {
   "cell_type": "code",
   "execution_count": null,
   "id": "1aa784b0-80f3-4176-8641-163b726f9387",
   "metadata": {},
   "outputs": [],
   "source": []
  }
 ],
 "metadata": {
  "kernelspec": {
   "display_name": "Python 3 (ipykernel)",
   "language": "python",
   "name": "python3"
  },
  "language_info": {
   "codemirror_mode": {
    "name": "ipython",
    "version": 3
   },
   "file_extension": ".py",
   "mimetype": "text/x-python",
   "name": "python",
   "nbconvert_exporter": "python",
   "pygments_lexer": "ipython3",
   "version": "3.11.3"
  }
 },
 "nbformat": 4,
 "nbformat_minor": 5
}
