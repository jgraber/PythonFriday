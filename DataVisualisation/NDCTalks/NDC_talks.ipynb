{
 "cells": [
  {
   "cell_type": "markdown",
   "id": "72dd9c99-82d3-4c55-8a7b-8a0f3940ba5a",
   "metadata": {},
   "source": [
    "## Basic imports"
   ]
  },
  {
   "cell_type": "code",
   "execution_count": 1,
   "id": "2932fc71-df76-43c8-86a3-843ca385ae79",
   "metadata": {},
   "outputs": [],
   "source": [
    "import pandas as pd\n",
    "import matplotlib.pyplot as plt\n",
    "import seaborn as sns"
   ]
  },
  {
   "cell_type": "code",
   "execution_count": 2,
   "id": "2ad3fa40-5f5c-47f1-a970-08577dfc934f",
   "metadata": {},
   "outputs": [],
   "source": [
    "import os\n",
    "data_file = os.path.abspath(os.path.join(os.getcwd(), 'data', 'ndc_talks_manually_fixed.csv'))"
   ]
  },
  {
   "cell_type": "markdown",
   "id": "19af3c14-64cf-4cc1-b92d-e4aae2266f8b",
   "metadata": {},
   "source": [
    "## Load data"
   ]
  },
  {
   "cell_type": "code",
   "execution_count": 3,
   "id": "76f4eee0-380a-4a9c-bc3d-c2e295ea28ed",
   "metadata": {},
   "outputs": [],
   "source": [
    "df = pd.read_csv(data_file)"
   ]
  },
  {
   "cell_type": "code",
   "execution_count": 4,
   "id": "fa2b53ec-c8b1-4fcf-876f-323517ca305e",
   "metadata": {},
   "outputs": [
    {
     "name": "stdout",
     "output_type": "stream",
     "text": [
      "<class 'pandas.core.frame.DataFrame'>\n",
      "RangeIndex: 3244 entries, 0 to 3243\n",
      "Data columns (total 8 columns):\n",
      " #   Column             Non-Null Count  Dtype \n",
      "---  ------             --------------  ----- \n",
      " 0   Published          3244 non-null   object\n",
      " 1   Type               3244 non-null   object\n",
      " 2   Conference         3244 non-null   object\n",
      " 3   Title              3244 non-null   object\n",
      " 4   Speaker            3244 non-null   object\n",
      " 5   Duration           3244 non-null   object\n",
      " 6   DurationInMinutes  3244 non-null   int64 \n",
      " 7   Link               3244 non-null   object\n",
      "dtypes: int64(1), object(7)\n",
      "memory usage: 202.9+ KB\n"
     ]
    }
   ],
   "source": [
    "df.info()"
   ]
  },
  {
   "cell_type": "code",
   "execution_count": 5,
   "id": "37a6abfa-119b-4a94-a2db-3f8b9cc9b15f",
   "metadata": {},
   "outputs": [
    {
     "data": {
      "text/html": [
       "<div>\n",
       "<style scoped>\n",
       "    .dataframe tbody tr th:only-of-type {\n",
       "        vertical-align: middle;\n",
       "    }\n",
       "\n",
       "    .dataframe tbody tr th {\n",
       "        vertical-align: top;\n",
       "    }\n",
       "\n",
       "    .dataframe thead th {\n",
       "        text-align: right;\n",
       "    }\n",
       "</style>\n",
       "<table border=\"1\" class=\"dataframe\">\n",
       "  <thead>\n",
       "    <tr style=\"text-align: right;\">\n",
       "      <th></th>\n",
       "      <th>Published</th>\n",
       "      <th>Type</th>\n",
       "      <th>Conference</th>\n",
       "      <th>Title</th>\n",
       "      <th>Speaker</th>\n",
       "      <th>Duration</th>\n",
       "      <th>DurationInMinutes</th>\n",
       "      <th>Link</th>\n",
       "    </tr>\n",
       "  </thead>\n",
       "  <tbody>\n",
       "    <tr>\n",
       "      <th>0</th>\n",
       "      <td>2 weeks ago</td>\n",
       "      <td>other</td>\n",
       "      <td>NDC Porto 2023</td>\n",
       "      <td>NDC Porto - 16-20 October 2023</td>\n",
       "      <td>Conference for Software Developers</td>\n",
       "      <td>0:33</td>\n",
       "      <td>1</td>\n",
       "      <td>https://youtube.com/watch?v=tKnNqftbT4Q</td>\n",
       "    </tr>\n",
       "    <tr>\n",
       "      <th>1</th>\n",
       "      <td>3 weeks ago</td>\n",
       "      <td>talk</td>\n",
       "      <td>NDC Oslo 2023</td>\n",
       "      <td>Managing Kubernetes the GitOps way with Flux</td>\n",
       "      <td>Jeff French</td>\n",
       "      <td>1:00:38</td>\n",
       "      <td>61</td>\n",
       "      <td>https://youtube.com/watch?v=1DuxTlvmaNM</td>\n",
       "    </tr>\n",
       "    <tr>\n",
       "      <th>2</th>\n",
       "      <td>3 weeks ago</td>\n",
       "      <td>talk</td>\n",
       "      <td>NDC Oslo 2023</td>\n",
       "      <td>Make a great-looking 3D landscape visualization!</td>\n",
       "      <td>Kristoffer Dyrkorn</td>\n",
       "      <td>59:06</td>\n",
       "      <td>59</td>\n",
       "      <td>https://youtube.com/watch?v=AYU0vw6IyUY</td>\n",
       "    </tr>\n",
       "    <tr>\n",
       "      <th>3</th>\n",
       "      <td>3 weeks ago</td>\n",
       "      <td>talk</td>\n",
       "      <td>NDC Oslo 2023</td>\n",
       "      <td>OpenAPI &amp; .NET: You're Doing It Wrong</td>\n",
       "      <td>Mark Rendle</td>\n",
       "      <td>57:15</td>\n",
       "      <td>57</td>\n",
       "      <td>https://youtube.com/watch?v=1K1LRzXeO_4</td>\n",
       "    </tr>\n",
       "    <tr>\n",
       "      <th>4</th>\n",
       "      <td>3 weeks ago</td>\n",
       "      <td>talk</td>\n",
       "      <td>NDC Oslo 2023</td>\n",
       "      <td>Design Good Schemas - Get a Better Database</td>\n",
       "      <td>Nuri Halperin</td>\n",
       "      <td>1:02:19</td>\n",
       "      <td>62</td>\n",
       "      <td>https://youtube.com/watch?v=iDWwoz9ZUzw</td>\n",
       "    </tr>\n",
       "  </tbody>\n",
       "</table>\n",
       "</div>"
      ],
      "text/plain": [
       "     Published   Type      Conference   \n",
       "0  2 weeks ago  other  NDC Porto 2023  \\\n",
       "1  3 weeks ago   talk   NDC Oslo 2023   \n",
       "2  3 weeks ago   talk   NDC Oslo 2023   \n",
       "3  3 weeks ago   talk   NDC Oslo 2023   \n",
       "4  3 weeks ago   talk   NDC Oslo 2023   \n",
       "\n",
       "                                              Title   \n",
       "0                    NDC Porto - 16-20 October 2023  \\\n",
       "1      Managing Kubernetes the GitOps way with Flux   \n",
       "2  Make a great-looking 3D landscape visualization!   \n",
       "3             OpenAPI & .NET: You're Doing It Wrong   \n",
       "4       Design Good Schemas - Get a Better Database   \n",
       "\n",
       "                               Speaker Duration  DurationInMinutes   \n",
       "0   Conference for Software Developers     0:33                  1  \\\n",
       "1                          Jeff French  1:00:38                 61   \n",
       "2                   Kristoffer Dyrkorn    59:06                 59   \n",
       "3                          Mark Rendle    57:15                 57   \n",
       "4                        Nuri Halperin  1:02:19                 62   \n",
       "\n",
       "                                      Link  \n",
       "0  https://youtube.com/watch?v=tKnNqftbT4Q  \n",
       "1  https://youtube.com/watch?v=1DuxTlvmaNM  \n",
       "2  https://youtube.com/watch?v=AYU0vw6IyUY  \n",
       "3  https://youtube.com/watch?v=1K1LRzXeO_4  \n",
       "4  https://youtube.com/watch?v=iDWwoz9ZUzw  "
      ]
     },
     "execution_count": 5,
     "metadata": {},
     "output_type": "execute_result"
    }
   ],
   "source": [
    "df.head(5)"
   ]
  },
  {
   "cell_type": "code",
   "execution_count": 6,
   "id": "81d1e1e8-40a8-474f-875c-2099e4dbaa6d",
   "metadata": {},
   "outputs": [
    {
     "data": {
      "text/plain": [
       "Conference\n",
       "NDC Oslo 2017                          175\n",
       "NDC Oslo 2018                          174\n",
       "NDC Oslo 2019                          172\n",
       "NDC London 2017                        157\n",
       "NDC Oslo 2023                          156\n",
       "NDC Sydney 2017                        142\n",
       "NDC Oslo 2020                          137\n",
       "NDC Sydney 2018                        129\n",
       "NDC Oslo 2022                          126\n",
       "NDC Oslo 2021                          126\n",
       "NDC Sydney 2016                        123\n",
       "NDC London 2019                        114\n",
       "NDC London 2020                        104\n",
       "NDC London 2023                        103\n",
       "NDC London 2022                         88\n",
       "NDC London 2018                         87\n",
       "NDC Sydney 2020                         81\n",
       "NDC London 2021                         81\n",
       "NDC Porto 2022                          81\n",
       "NDC Sydney 2019                         78\n",
       "NDC Melbourne 2022                      73\n",
       "NDC Minnesota 2018                      61\n",
       "NDC Minnesota 2019                      58\n",
       "NDC TechTown 2018                       55\n",
       "NDC TechTown 2019                       53\n",
       "NDC Porto 2019                          49\n",
       "NDC Oslo 2016                           47\n",
       "NDC Copenhagen 2022                     38\n",
       "NDC TechTown 2022                       37\n",
       "NDC Security 2023                       37\n",
       "NDC Security 2022                       36\n",
       "NDC TechTown 2021                       32\n",
       "NDC Porto 2020                          23\n",
       "NDC Sydney 2022                         23\n",
       "NDC TechTown 2017                       19\n",
       "NDC Copenhagen 2019                     18\n",
       "NDC TechTown 2020                       17\n",
       "NDC Sydney 2021                         17\n",
       "NDC Conferences                         16\n",
       "NDC Security 2020                       15\n",
       "Mini NDC Copenhagen 2017                12\n",
       "NDC Security 2018                       10\n",
       "NDC Security Oslo 2019                  10\n",
       "NDC Copenhagen 2020                     10\n",
       "NDC DevOps 2020                          9\n",
       "NDC Minnesota 2022                       8\n",
       "NDC Melbourne 2021                       8\n",
       "Copenhagen Developers Festival 2023      5\n",
       "NDC Security Australia 2018              3\n",
       "NDC Melbourne 2020                       2\n",
       "NDC Syndey 2021                          2\n",
       "NDC Melbourne 202                        2\n",
       "NDC Mini Copenhagen 2018                 1\n",
       "NDC Security Australia 2019              1\n",
       "NDC Minnesota 2020                       1\n",
       "NDC TechTown 2023                        1\n",
       "NDC Porto 2023                           1\n",
       "Name: count, dtype: int64"
      ]
     },
     "execution_count": 6,
     "metadata": {},
     "output_type": "execute_result"
    }
   ],
   "source": [
    "df['Conference'].value_counts()"
   ]
  },
  {
   "cell_type": "markdown",
   "id": "00968b1d-b1cb-4ff6-bfea-cf35a7515775",
   "metadata": {},
   "source": [
    "## Filter the talks"
   ]
  },
  {
   "cell_type": "code",
   "execution_count": 7,
   "id": "0624e901-568d-40bf-98a7-3f9ca011eda5",
   "metadata": {},
   "outputs": [
    {
     "data": {
      "text/plain": [
       "Conference\n",
       "NDC Oslo 2017    162\n",
       "NDC Oslo 2018    159\n",
       "NDC Oslo 2019    154\n",
       "NDC Oslo 2023    140\n",
       "NDC Oslo 2022    113\n",
       "NDC Oslo 2021    113\n",
       "NDC Oslo 2020    112\n",
       "NDC Oslo 2016     43\n",
       "Name: count, dtype: int64"
      ]
     },
     "execution_count": 7,
     "metadata": {},
     "output_type": "execute_result"
    }
   ],
   "source": [
    "talks = df[df.Type == 'talk']\n",
    "oslo_talks = talks[talks.Conference.str.contains(\"NDC Oslo\")]\n",
    "oslo_talks = oslo_talks.query('`DurationInMinutes` < 75 & `DurationInMinutes` > 20')\n",
    "oslo_talks['Conference'].value_counts()"
   ]
  },
  {
   "cell_type": "code",
   "execution_count": 8,
   "id": "2b1b488b-6900-4f9b-a978-7ce31dc2cf80",
   "metadata": {},
   "outputs": [
    {
     "data": {
      "text/plain": [
       "(996, 8)"
      ]
     },
     "execution_count": 8,
     "metadata": {},
     "output_type": "execute_result"
    }
   ],
   "source": [
    "oslo_talks.shape"
   ]
  },
  {
   "cell_type": "code",
   "execution_count": 9,
   "id": "609dc64e-353b-449d-9e4d-6bf4331ac0e2",
   "metadata": {},
   "outputs": [
    {
     "data": {
      "image/png": "[encoded data removed]",
      "text/plain": [
       "<Figure size 640x480 with 1 Axes>"
      ]
     },
     "metadata": {},
     "output_type": "display_data"
    }
   ],
   "source": [
    "ax = sns.boxplot(oslo_talks, \n",
    "                 x='DurationInMinutes', \n",
    "                 y='Conference')\n",
    "ax.axvline(x=55, color='orange')\n",
    "plt.savefig('NDC_Oslo_talks_boxplot')"
   ]
  },
  {
   "cell_type": "code",
   "execution_count": 10,
   "id": "4eddebc3-2b65-4304-ba4e-6657ef351ba0",
   "metadata": {},
   "outputs": [
    {
     "data": {
      "image/png": "[encoded data removed]",
      "text/plain": [
       "<Figure size 1400x827 with 1 Axes>"
      ]
     },
     "metadata": {},
     "output_type": "display_data"
    }
   ],
   "source": [
    "sns.set(rc={'figure.figsize':(14,8.27)})\n",
    "\n",
    "spec = dict(x=\"Conference\", \n",
    "            y=\"DurationInMinutes\", \n",
    "            data=oslo_talks)\n",
    "\n",
    "sns.swarmplot(**spec, marker=\"*\")\n",
    "sns.pointplot(**spec, \n",
    "              join=False, \n",
    "              errorbar=('ci', 10), \n",
    "              capsize=0.7, \n",
    "              scale=0, \n",
    "              color='salmon')\n",
    "\n",
    "plt.savefig('NDC_Oslo_talks_swarmplot')\n",
    "#plt.xticks(rotation=45, ha=\"right\")\n",
    "#https://stackoverflow.com/questions/67481900/how-to-add-a-mean-line-to-a-seaborn-stripplot-or-swarmplot"
   ]
  },
  {
   "cell_type": "code",
   "execution_count": 11,
   "id": "e84abdba-4cb2-4ea8-a640-c511a70d976f",
   "metadata": {},
   "outputs": [
    {
     "data": {
      "text/html": [
       "<div>\n",
       "<style scoped>\n",
       "    .dataframe tbody tr th:only-of-type {\n",
       "        vertical-align: middle;\n",
       "    }\n",
       "\n",
       "    .dataframe tbody tr th {\n",
       "        vertical-align: top;\n",
       "    }\n",
       "\n",
       "    .dataframe thead tr th {\n",
       "        text-align: left;\n",
       "    }\n",
       "\n",
       "    .dataframe thead tr:last-of-type th {\n",
       "        text-align: right;\n",
       "    }\n",
       "</style>\n",
       "<table border=\"1\" class=\"dataframe\">\n",
       "  <thead>\n",
       "    <tr>\n",
       "      <th></th>\n",
       "      <th colspan=\"8\" halign=\"left\">DurationInMinutes</th>\n",
       "    </tr>\n",
       "    <tr>\n",
       "      <th></th>\n",
       "      <th>count</th>\n",
       "      <th>mean</th>\n",
       "      <th>std</th>\n",
       "      <th>min</th>\n",
       "      <th>25%</th>\n",
       "      <th>50%</th>\n",
       "      <th>75%</th>\n",
       "      <th>max</th>\n",
       "    </tr>\n",
       "    <tr>\n",
       "      <th>Conference</th>\n",
       "      <th></th>\n",
       "      <th></th>\n",
       "      <th></th>\n",
       "      <th></th>\n",
       "      <th></th>\n",
       "      <th></th>\n",
       "      <th></th>\n",
       "      <th></th>\n",
       "    </tr>\n",
       "  </thead>\n",
       "  <tbody>\n",
       "    <tr>\n",
       "      <th>NDC Oslo 2023</th>\n",
       "      <td>140.0</td>\n",
       "      <td>53.642857</td>\n",
       "      <td>7.419662</td>\n",
       "      <td>23.0</td>\n",
       "      <td>48.75</td>\n",
       "      <td>55.0</td>\n",
       "      <td>59.25</td>\n",
       "      <td>66.0</td>\n",
       "    </tr>\n",
       "    <tr>\n",
       "      <th>NDC Oslo 2022</th>\n",
       "      <td>113.0</td>\n",
       "      <td>54.053097</td>\n",
       "      <td>7.146229</td>\n",
       "      <td>34.0</td>\n",
       "      <td>49.00</td>\n",
       "      <td>55.0</td>\n",
       "      <td>59.00</td>\n",
       "      <td>74.0</td>\n",
       "    </tr>\n",
       "    <tr>\n",
       "      <th>NDC Oslo 2021</th>\n",
       "      <td>113.0</td>\n",
       "      <td>54.477876</td>\n",
       "      <td>6.693677</td>\n",
       "      <td>31.0</td>\n",
       "      <td>50.00</td>\n",
       "      <td>56.0</td>\n",
       "      <td>60.00</td>\n",
       "      <td>65.0</td>\n",
       "    </tr>\n",
       "    <tr>\n",
       "      <th>NDC Oslo 2020</th>\n",
       "      <td>112.0</td>\n",
       "      <td>55.383929</td>\n",
       "      <td>7.822635</td>\n",
       "      <td>23.0</td>\n",
       "      <td>51.00</td>\n",
       "      <td>58.0</td>\n",
       "      <td>61.00</td>\n",
       "      <td>69.0</td>\n",
       "    </tr>\n",
       "    <tr>\n",
       "      <th>NDC Oslo 2019</th>\n",
       "      <td>154.0</td>\n",
       "      <td>54.474026</td>\n",
       "      <td>7.557361</td>\n",
       "      <td>24.0</td>\n",
       "      <td>50.25</td>\n",
       "      <td>57.0</td>\n",
       "      <td>60.00</td>\n",
       "      <td>71.0</td>\n",
       "    </tr>\n",
       "    <tr>\n",
       "      <th>NDC Oslo 2018</th>\n",
       "      <td>159.0</td>\n",
       "      <td>53.716981</td>\n",
       "      <td>8.954266</td>\n",
       "      <td>26.0</td>\n",
       "      <td>50.00</td>\n",
       "      <td>55.0</td>\n",
       "      <td>61.00</td>\n",
       "      <td>70.0</td>\n",
       "    </tr>\n",
       "    <tr>\n",
       "      <th>NDC Oslo 2017</th>\n",
       "      <td>162.0</td>\n",
       "      <td>54.574074</td>\n",
       "      <td>8.403493</td>\n",
       "      <td>21.0</td>\n",
       "      <td>50.00</td>\n",
       "      <td>57.0</td>\n",
       "      <td>60.00</td>\n",
       "      <td>72.0</td>\n",
       "    </tr>\n",
       "    <tr>\n",
       "      <th>NDC Oslo 2016</th>\n",
       "      <td>43.0</td>\n",
       "      <td>55.651163</td>\n",
       "      <td>8.374803</td>\n",
       "      <td>35.0</td>\n",
       "      <td>51.50</td>\n",
       "      <td>58.0</td>\n",
       "      <td>61.50</td>\n",
       "      <td>70.0</td>\n",
       "    </tr>\n",
       "  </tbody>\n",
       "</table>\n",
       "</div>"
      ],
      "text/plain": [
       "              DurationInMinutes                                           \n",
       "                          count       mean       std   min    25%   50%   \n",
       "Conference                                                                \n",
       "NDC Oslo 2023             140.0  53.642857  7.419662  23.0  48.75  55.0  \\\n",
       "NDC Oslo 2022             113.0  54.053097  7.146229  34.0  49.00  55.0   \n",
       "NDC Oslo 2021             113.0  54.477876  6.693677  31.0  50.00  56.0   \n",
       "NDC Oslo 2020             112.0  55.383929  7.822635  23.0  51.00  58.0   \n",
       "NDC Oslo 2019             154.0  54.474026  7.557361  24.0  50.25  57.0   \n",
       "NDC Oslo 2018             159.0  53.716981  8.954266  26.0  50.00  55.0   \n",
       "NDC Oslo 2017             162.0  54.574074  8.403493  21.0  50.00  57.0   \n",
       "NDC Oslo 2016              43.0  55.651163  8.374803  35.0  51.50  58.0   \n",
       "\n",
       "                            \n",
       "                 75%   max  \n",
       "Conference                  \n",
       "NDC Oslo 2023  59.25  66.0  \n",
       "NDC Oslo 2022  59.00  74.0  \n",
       "NDC Oslo 2021  60.00  65.0  \n",
       "NDC Oslo 2020  61.00  69.0  \n",
       "NDC Oslo 2019  60.00  71.0  \n",
       "NDC Oslo 2018  61.00  70.0  \n",
       "NDC Oslo 2017  60.00  72.0  \n",
       "NDC Oslo 2016  61.50  70.0  "
      ]
     },
     "execution_count": 11,
     "metadata": {},
     "output_type": "execute_result"
    }
   ],
   "source": [
    "group = oslo_talks.groupby(['Conference']).describe()\n",
    "group.sort_values(by='Conference', ascending=False)"
   ]
  },
  {
   "cell_type": "code",
   "execution_count": 12,
   "id": "fb2abe04-4369-40a0-8439-a6b093ff485a",
   "metadata": {},
   "outputs": [
    {
     "data": {
      "text/plain": [
       "Conference\n",
       "NDC Oslo 2023    38\n",
       "NDC Oslo 2018    38\n",
       "NDC Oslo 2017    37\n",
       "NDC Oslo 2019    34\n",
       "NDC Oslo 2022    31\n",
       "NDC Oslo 2021    26\n",
       "NDC Oslo 2020    25\n",
       "NDC Oslo 2016    10\n",
       "Name: count, dtype: int64"
      ]
     },
     "execution_count": 12,
     "metadata": {},
     "output_type": "execute_result"
    }
   ],
   "source": [
    "oslo_talks.query('DurationInMinutes < 50')['Conference'].value_counts()"
   ]
  }
 ],
 "metadata": {
  "kernelspec": {
   "display_name": "Python 3 (ipykernel)",
   "language": "python",
   "name": "python3"
  },
  "language_info": {
   "codemirror_mode": {
    "name": "ipython",
    "version": 3
   },
   "file_extension": ".py",
   "mimetype": "text/x-python",
   "name": "python",
   "nbconvert_exporter": "python",
   "pygments_lexer": "ipython3",
   "version": "3.11.3"
  }
 },
 "nbformat": 4,
 "nbformat_minor": 5
}
