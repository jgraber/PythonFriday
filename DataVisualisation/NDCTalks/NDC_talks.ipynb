{
 "cells": [
  {
   "cell_type": "markdown",
   "id": "72dd9c99-82d3-4c55-8a7b-8a0f3940ba5a",
   "metadata": {},
   "source": [
    "## Basic imports"
   ]
  },
  {
   "cell_type": "code",
   "execution_count": 1,
   "id": "2932fc71-df76-43c8-86a3-843ca385ae79",
   "metadata": {},
   "outputs": [],
   "source": [
    "import pandas as pd\n",
    "import matplotlib.pyplot as plt\n",
    "import seaborn as sns"
   ]
  },
  {
   "cell_type": "code",
   "execution_count": 2,
   "id": "2ad3fa40-5f5c-47f1-a970-08577dfc934f",
   "metadata": {},
   "outputs": [],
   "source": [
    "import os\n",
    "data_file = os.path.abspath(os.path.join(os.getcwd(), 'data', 'ndc_talks_manually_fixed.csv'))"
   ]
  },
  {
   "cell_type": "markdown",
   "id": "19af3c14-64cf-4cc1-b92d-e4aae2266f8b",
   "metadata": {},
   "source": [
    "## Load data"
   ]
  },
  {
   "cell_type": "code",
   "execution_count": 3,
   "id": "76f4eee0-380a-4a9c-bc3d-c2e295ea28ed",
   "metadata": {},
   "outputs": [],
   "source": [
    "df = pd.read_csv(data_file)"
   ]
  },
  {
   "cell_type": "code",
   "execution_count": 4,
   "id": "fa2b53ec-c8b1-4fcf-876f-323517ca305e",
   "metadata": {},
   "outputs": [
    {
     "name": "stdout",
     "output_type": "stream",
     "text": [
      "<class 'pandas.core.frame.DataFrame'>\n",
      "RangeIndex: 4112 entries, 0 to 4111\n",
      "Data columns (total 8 columns):\n",
      " #   Column             Non-Null Count  Dtype \n",
      "---  ------             --------------  ----- \n",
      " 0   Published          4112 non-null   object\n",
      " 1   Type               4112 non-null   object\n",
      " 2   Conference         4112 non-null   object\n",
      " 3   Title              4112 non-null   object\n",
      " 4   Speaker            4112 non-null   object\n",
      " 5   Duration           4112 non-null   object\n",
      " 6   DurationInMinutes  4112 non-null   int64 \n",
      " 7   Link               4112 non-null   object\n",
      "dtypes: int64(1), object(7)\n",
      "memory usage: 257.1+ KB\n"
     ]
    }
   ],
   "source": [
    "df.info()"
   ]
  },
  {
   "cell_type": "code",
   "execution_count": 5,
   "id": "37a6abfa-119b-4a94-a2db-3f8b9cc9b15f",
   "metadata": {},
   "outputs": [
    {
     "data": {
      "text/html": [
       "<div>\n",
       "<style scoped>\n",
       "    .dataframe tbody tr th:only-of-type {\n",
       "        vertical-align: middle;\n",
       "    }\n",
       "\n",
       "    .dataframe tbody tr th {\n",
       "        vertical-align: top;\n",
       "    }\n",
       "\n",
       "    .dataframe thead th {\n",
       "        text-align: right;\n",
       "    }\n",
       "</style>\n",
       "<table border=\"1\" class=\"dataframe\">\n",
       "  <thead>\n",
       "    <tr style=\"text-align: right;\">\n",
       "      <th></th>\n",
       "      <th>Published</th>\n",
       "      <th>Type</th>\n",
       "      <th>Conference</th>\n",
       "      <th>Title</th>\n",
       "      <th>Speaker</th>\n",
       "      <th>Duration</th>\n",
       "      <th>DurationInMinutes</th>\n",
       "      <th>Link</th>\n",
       "    </tr>\n",
       "  </thead>\n",
       "  <tbody>\n",
       "    <tr>\n",
       "      <th>0</th>\n",
       "      <td>2 days ago</td>\n",
       "      <td>talk</td>\n",
       "      <td>NDC Melbourne 2025</td>\n",
       "      <td>Who tests their cloud code anyway?</td>\n",
       "      <td>Lars Klint</td>\n",
       "      <td>58:27</td>\n",
       "      <td>58</td>\n",
       "      <td>https://youtube.com/watch?v=-bwSG_ys_4s</td>\n",
       "    </tr>\n",
       "    <tr>\n",
       "      <th>1</th>\n",
       "      <td>2 days ago</td>\n",
       "      <td>talk</td>\n",
       "      <td>NDC Melbourne 2025</td>\n",
       "      <td>Inside the Breach: Secrets Exposed</td>\n",
       "      <td>Troy Hunt</td>\n",
       "      <td>59:07</td>\n",
       "      <td>59</td>\n",
       "      <td>https://youtube.com/watch?v=Og-cFpwqjQ4</td>\n",
       "    </tr>\n",
       "    <tr>\n",
       "      <th>2</th>\n",
       "      <td>4 days ago</td>\n",
       "      <td>talk</td>\n",
       "      <td>NDC Melbourne 2025</td>\n",
       "      <td>Keynote: The past, present, and future of AI f...</td>\n",
       "      <td>Steve Sanderson</td>\n",
       "      <td>59:12</td>\n",
       "      <td>59</td>\n",
       "      <td>https://youtube.com/watch?v=Xyios5mdkIM</td>\n",
       "    </tr>\n",
       "    <tr>\n",
       "      <th>3</th>\n",
       "      <td>4 days ago</td>\n",
       "      <td>talk</td>\n",
       "      <td>NDC Melbourne 2025</td>\n",
       "      <td>How Rome2Rio split up their monolith and moved...</td>\n",
       "      <td>Lachlan Barclay</td>\n",
       "      <td>43:03</td>\n",
       "      <td>43</td>\n",
       "      <td>https://youtube.com/watch?v=_8Vf_G8Lv-c&amp;pp=0gc...</td>\n",
       "    </tr>\n",
       "    <tr>\n",
       "      <th>4</th>\n",
       "      <td>4 days ago</td>\n",
       "      <td>talk</td>\n",
       "      <td>NDC Melbourne 2025</td>\n",
       "      <td>Mirror, mirror: LLMs and the illusion of humanity</td>\n",
       "      <td>Jodie Burchell</td>\n",
       "      <td>56:09</td>\n",
       "      <td>56</td>\n",
       "      <td>https://youtube.com/watch?v=RSS1a8ngGRU</td>\n",
       "    </tr>\n",
       "  </tbody>\n",
       "</table>\n",
       "</div>"
      ],
      "text/plain": [
       "    Published  Type          Conference  \\\n",
       "0  2 days ago  talk  NDC Melbourne 2025   \n",
       "1  2 days ago  talk  NDC Melbourne 2025   \n",
       "2  4 days ago  talk  NDC Melbourne 2025   \n",
       "3  4 days ago  talk  NDC Melbourne 2025   \n",
       "4  4 days ago  talk  NDC Melbourne 2025   \n",
       "\n",
       "                                               Title          Speaker  \\\n",
       "0                 Who tests their cloud code anyway?       Lars Klint   \n",
       "1                 Inside the Breach: Secrets Exposed        Troy Hunt   \n",
       "2  Keynote: The past, present, and future of AI f...  Steve Sanderson   \n",
       "3  How Rome2Rio split up their monolith and moved...  Lachlan Barclay   \n",
       "4  Mirror, mirror: LLMs and the illusion of humanity   Jodie Burchell   \n",
       "\n",
       "  Duration  DurationInMinutes  \\\n",
       "0    58:27                 58   \n",
       "1    59:07                 59   \n",
       "2    59:12                 59   \n",
       "3    43:03                 43   \n",
       "4    56:09                 56   \n",
       "\n",
       "                                                Link  \n",
       "0            https://youtube.com/watch?v=-bwSG_ys_4s  \n",
       "1            https://youtube.com/watch?v=Og-cFpwqjQ4  \n",
       "2            https://youtube.com/watch?v=Xyios5mdkIM  \n",
       "3  https://youtube.com/watch?v=_8Vf_G8Lv-c&pp=0gc...  \n",
       "4            https://youtube.com/watch?v=RSS1a8ngGRU  "
      ]
     },
     "execution_count": 5,
     "metadata": {},
     "output_type": "execute_result"
    }
   ],
   "source": [
    "df.head(5)"
   ]
  },
  {
   "cell_type": "code",
   "execution_count": 6,
   "id": "81d1e1e8-40a8-474f-875c-2099e4dbaa6d",
   "metadata": {},
   "outputs": [
    {
     "data": {
      "text/plain": [
       "Conference\n",
       "NDC Oslo 2017                  175\n",
       "NDC Oslo 2018                  174\n",
       "NDC Oslo 2019                  172\n",
       "NDC London 2017                157\n",
       "NDC Oslo 2023                  156\n",
       "                              ... \n",
       "NDC Syndey 2021                  2\n",
       "NDC Melbourne 2020               2\n",
       "NDC Mini Copenhagen 2018         1\n",
       "NDC Minnesota 2020               1\n",
       "NDC Security Australia 2019      1\n",
       "Name: count, Length: 67, dtype: int64"
      ]
     },
     "execution_count": 6,
     "metadata": {},
     "output_type": "execute_result"
    }
   ],
   "source": [
    "df['Conference'].value_counts()"
   ]
  },
  {
   "cell_type": "markdown",
   "id": "00968b1d-b1cb-4ff6-bfea-cf35a7515775",
   "metadata": {},
   "source": [
    "## Filter the talks"
   ]
  },
  {
   "cell_type": "code",
   "execution_count": 7,
   "id": "b1faa3cf-7c0e-4b83-93e4-2ca0fa27fa22",
   "metadata": {},
   "outputs": [],
   "source": [
    "s = pd.to_numeric(df['DurationInMinutes'], errors=\"coerce\").isna()"
   ]
  },
  {
   "cell_type": "code",
   "execution_count": 8,
   "id": "f85914c9-40ce-40e9-b9ee-b4ea027407c0",
   "metadata": {},
   "outputs": [
    {
     "data": {
      "text/plain": [
       "Series([], Name: DurationInMinutes, dtype: bool)"
      ]
     },
     "execution_count": 8,
     "metadata": {},
     "output_type": "execute_result"
    }
   ],
   "source": [
    "s[s == True]"
   ]
  },
  {
   "cell_type": "code",
   "execution_count": 9,
   "id": "0624e901-568d-40bf-98a7-3f9ca011eda5",
   "metadata": {},
   "outputs": [
    {
     "data": {
      "text/plain": [
       "Conference\n",
       "NDC Oslo 2017    162\n",
       "NDC Oslo 2018    159\n",
       "NDC Oslo 2019    154\n",
       "NDC Oslo 2023    140\n",
       "NDC Oslo 2024    113\n",
       "NDC Oslo 2022    113\n",
       "NDC Oslo 2021    113\n",
       "NDC Oslo 2020    112\n",
       "NDC Oslo 2016     43\n",
       "Name: count, dtype: int64"
      ]
     },
     "execution_count": 9,
     "metadata": {},
     "output_type": "execute_result"
    }
   ],
   "source": [
    "talks = df[df.Type == 'talk']\n",
    "oslo_talks = talks[talks.Conference.str.contains(\"NDC Oslo\")]\n",
    "oslo_talks = oslo_talks.query('`DurationInMinutes` < 75 & `DurationInMinutes` > 20')\n",
    "oslo_talks['Conference'].value_counts()"
   ]
  },
  {
   "cell_type": "code",
   "execution_count": 10,
   "id": "2b1b488b-6900-4f9b-a978-7ce31dc2cf80",
   "metadata": {},
   "outputs": [
    {
     "data": {
      "text/plain": [
       "(1109, 8)"
      ]
     },
     "execution_count": 10,
     "metadata": {},
     "output_type": "execute_result"
    }
   ],
   "source": [
    "oslo_talks.shape"
   ]
  },
  {
   "cell_type": "code",
   "execution_count": 11,
   "id": "609dc64e-353b-449d-9e4d-6bf4331ac0e2",
   "metadata": {},
   "outputs": [
    {
     "data": {
      "image/png": "[encoded data removed]",
      "text/plain": [
       "<Figure size 640x480 with 1 Axes>"
      ]
     },
     "metadata": {},
     "output_type": "display_data"
    }
   ],
   "source": [
    "ax = sns.boxplot(oslo_talks, \n",
    "                 x='DurationInMinutes', \n",
    "                 y='Conference')\n",
    "ax.axvline(x=55, color='orange')\n",
    "plt.savefig('NDC_Oslo_talks_boxplot')"
   ]
  },
  {
   "cell_type": "code",
   "execution_count": 18,
   "id": "4eddebc3-2b65-4304-ba4e-6657ef351ba0",
   "metadata": {},
   "outputs": [
    {
     "data": {
      "image/png": "[encoded data removed]",
      "text/plain": [
       "<Figure size 1400x827 with 1 Axes>"
      ]
     },
     "metadata": {},
     "output_type": "display_data"
    }
   ],
   "source": [
    "sns.set(rc={'figure.figsize':(14,8.27)})\n",
    "\n",
    "spec = dict(x=\"Conference\", \n",
    "            y=\"DurationInMinutes\", \n",
    "            data=oslo_talks)\n",
    "\n",
    "sns.swarmplot(**spec, marker=\"*\")\n",
    "sns.pointplot(**spec, \n",
    "              linestyle='none', \n",
    "              errorbar=('ci', 10), \n",
    "              capsize=0.7,\n",
    "              color='salmon')\n",
    "\n",
    "plt.savefig('NDC_Oslo_talks_swarmplot')\n",
    "#plt.xticks(rotation=45, ha=\"right\")\n",
    "#https://stackoverflow.com/questions/67481900/how-to-add-a-mean-line-to-a-seaborn-stripplot-or-swarmplot"
   ]
  },
  {
   "cell_type": "code",
   "execution_count": 13,
   "id": "e84abdba-4cb2-4ea8-a640-c511a70d976f",
   "metadata": {},
   "outputs": [
    {
     "data": {
      "text/html": [
       "<div>\n",
       "<style scoped>\n",
       "    .dataframe tbody tr th:only-of-type {\n",
       "        vertical-align: middle;\n",
       "    }\n",
       "\n",
       "    .dataframe tbody tr th {\n",
       "        vertical-align: top;\n",
       "    }\n",
       "\n",
       "    .dataframe thead tr th {\n",
       "        text-align: left;\n",
       "    }\n",
       "\n",
       "    .dataframe thead tr:last-of-type th {\n",
       "        text-align: right;\n",
       "    }\n",
       "</style>\n",
       "<table border=\"1\" class=\"dataframe\">\n",
       "  <thead>\n",
       "    <tr>\n",
       "      <th></th>\n",
       "      <th colspan=\"8\" halign=\"left\">DurationInMinutes</th>\n",
       "    </tr>\n",
       "    <tr>\n",
       "      <th></th>\n",
       "      <th>count</th>\n",
       "      <th>mean</th>\n",
       "      <th>std</th>\n",
       "      <th>min</th>\n",
       "      <th>25%</th>\n",
       "      <th>50%</th>\n",
       "      <th>75%</th>\n",
       "      <th>max</th>\n",
       "    </tr>\n",
       "    <tr>\n",
       "      <th>Conference</th>\n",
       "      <th></th>\n",
       "      <th></th>\n",
       "      <th></th>\n",
       "      <th></th>\n",
       "      <th></th>\n",
       "      <th></th>\n",
       "      <th></th>\n",
       "      <th></th>\n",
       "    </tr>\n",
       "  </thead>\n",
       "  <tbody>\n",
       "    <tr>\n",
       "      <th>NDC Oslo 2024</th>\n",
       "      <td>113.0</td>\n",
       "      <td>53.690265</td>\n",
       "      <td>6.798214</td>\n",
       "      <td>33.0</td>\n",
       "      <td>49.00</td>\n",
       "      <td>55.0</td>\n",
       "      <td>59.00</td>\n",
       "      <td>69.0</td>\n",
       "    </tr>\n",
       "    <tr>\n",
       "      <th>NDC Oslo 2023</th>\n",
       "      <td>140.0</td>\n",
       "      <td>53.642857</td>\n",
       "      <td>7.419662</td>\n",
       "      <td>23.0</td>\n",
       "      <td>48.75</td>\n",
       "      <td>55.0</td>\n",
       "      <td>59.25</td>\n",
       "      <td>66.0</td>\n",
       "    </tr>\n",
       "    <tr>\n",
       "      <th>NDC Oslo 2022</th>\n",
       "      <td>113.0</td>\n",
       "      <td>54.053097</td>\n",
       "      <td>7.146229</td>\n",
       "      <td>34.0</td>\n",
       "      <td>49.00</td>\n",
       "      <td>55.0</td>\n",
       "      <td>59.00</td>\n",
       "      <td>74.0</td>\n",
       "    </tr>\n",
       "    <tr>\n",
       "      <th>NDC Oslo 2021</th>\n",
       "      <td>113.0</td>\n",
       "      <td>54.477876</td>\n",
       "      <td>6.693677</td>\n",
       "      <td>31.0</td>\n",
       "      <td>50.00</td>\n",
       "      <td>56.0</td>\n",
       "      <td>60.00</td>\n",
       "      <td>65.0</td>\n",
       "    </tr>\n",
       "    <tr>\n",
       "      <th>NDC Oslo 2020</th>\n",
       "      <td>112.0</td>\n",
       "      <td>55.383929</td>\n",
       "      <td>7.822635</td>\n",
       "      <td>23.0</td>\n",
       "      <td>51.00</td>\n",
       "      <td>58.0</td>\n",
       "      <td>61.00</td>\n",
       "      <td>69.0</td>\n",
       "    </tr>\n",
       "    <tr>\n",
       "      <th>NDC Oslo 2019</th>\n",
       "      <td>154.0</td>\n",
       "      <td>54.474026</td>\n",
       "      <td>7.557361</td>\n",
       "      <td>24.0</td>\n",
       "      <td>50.25</td>\n",
       "      <td>57.0</td>\n",
       "      <td>60.00</td>\n",
       "      <td>71.0</td>\n",
       "    </tr>\n",
       "    <tr>\n",
       "      <th>NDC Oslo 2018</th>\n",
       "      <td>159.0</td>\n",
       "      <td>53.716981</td>\n",
       "      <td>8.954266</td>\n",
       "      <td>26.0</td>\n",
       "      <td>50.00</td>\n",
       "      <td>55.0</td>\n",
       "      <td>61.00</td>\n",
       "      <td>70.0</td>\n",
       "    </tr>\n",
       "    <tr>\n",
       "      <th>NDC Oslo 2017</th>\n",
       "      <td>162.0</td>\n",
       "      <td>54.574074</td>\n",
       "      <td>8.403493</td>\n",
       "      <td>21.0</td>\n",
       "      <td>50.00</td>\n",
       "      <td>57.0</td>\n",
       "      <td>60.00</td>\n",
       "      <td>72.0</td>\n",
       "    </tr>\n",
       "    <tr>\n",
       "      <th>NDC Oslo 2016</th>\n",
       "      <td>43.0</td>\n",
       "      <td>55.651163</td>\n",
       "      <td>8.374803</td>\n",
       "      <td>35.0</td>\n",
       "      <td>51.50</td>\n",
       "      <td>58.0</td>\n",
       "      <td>61.50</td>\n",
       "      <td>70.0</td>\n",
       "    </tr>\n",
       "  </tbody>\n",
       "</table>\n",
       "</div>"
      ],
      "text/plain": [
       "              DurationInMinutes                                          \\\n",
       "                          count       mean       std   min    25%   50%   \n",
       "Conference                                                                \n",
       "NDC Oslo 2024             113.0  53.690265  6.798214  33.0  49.00  55.0   \n",
       "NDC Oslo 2023             140.0  53.642857  7.419662  23.0  48.75  55.0   \n",
       "NDC Oslo 2022             113.0  54.053097  7.146229  34.0  49.00  55.0   \n",
       "NDC Oslo 2021             113.0  54.477876  6.693677  31.0  50.00  56.0   \n",
       "NDC Oslo 2020             112.0  55.383929  7.822635  23.0  51.00  58.0   \n",
       "NDC Oslo 2019             154.0  54.474026  7.557361  24.0  50.25  57.0   \n",
       "NDC Oslo 2018             159.0  53.716981  8.954266  26.0  50.00  55.0   \n",
       "NDC Oslo 2017             162.0  54.574074  8.403493  21.0  50.00  57.0   \n",
       "NDC Oslo 2016              43.0  55.651163  8.374803  35.0  51.50  58.0   \n",
       "\n",
       "                            \n",
       "                 75%   max  \n",
       "Conference                  \n",
       "NDC Oslo 2024  59.00  69.0  \n",
       "NDC Oslo 2023  59.25  66.0  \n",
       "NDC Oslo 2022  59.00  74.0  \n",
       "NDC Oslo 2021  60.00  65.0  \n",
       "NDC Oslo 2020  61.00  69.0  \n",
       "NDC Oslo 2019  60.00  71.0  \n",
       "NDC Oslo 2018  61.00  70.0  \n",
       "NDC Oslo 2017  60.00  72.0  \n",
       "NDC Oslo 2016  61.50  70.0  "
      ]
     },
     "execution_count": 13,
     "metadata": {},
     "output_type": "execute_result"
    }
   ],
   "source": [
    "group = oslo_talks.groupby(['Conference']).describe()\n",
    "group.sort_values(by='Conference', ascending=False)"
   ]
  },
  {
   "cell_type": "code",
   "execution_count": 22,
   "id": "fb2abe04-4369-40a0-8439-a6b093ff485a",
   "metadata": {},
   "outputs": [
    {
     "data": {
      "text/plain": [
       "Conference\n",
       "NDC Oslo 2024    31\n",
       "NDC Oslo 2023    38\n",
       "NDC Oslo 2022    31\n",
       "NDC Oslo 2021    26\n",
       "NDC Oslo 2020    25\n",
       "NDC Oslo 2019    34\n",
       "NDC Oslo 2018    38\n",
       "NDC Oslo 2017    37\n",
       "NDC Oslo 2016    10\n",
       "Name: count, dtype: int64"
      ]
     },
     "execution_count": 22,
     "metadata": {},
     "output_type": "execute_result"
    }
   ],
   "source": [
    "oslo_talks.query('DurationInMinutes < 50')['Conference'].value_counts().sort_index(ascending=False)"
   ]
  },
  {
   "cell_type": "code",
   "execution_count": null,
   "id": "30ea0de6-5058-4cf8-a6c2-c8f1a1bdabde",
   "metadata": {},
   "outputs": [],
   "source": []
  }
 ],
 "metadata": {
  "kernelspec": {
   "display_name": "Python 3 (ipykernel)",
   "language": "python",
   "name": "python3"
  },
  "language_info": {
   "codemirror_mode": {
    "name": "ipython",
    "version": 3
   },
   "file_extension": ".py",
   "mimetype": "text/x-python",
   "name": "python",
   "nbconvert_exporter": "python",
   "pygments_lexer": "ipython3",
   "version": "3.12.1"
  }
 },
 "nbformat": 4,
 "nbformat_minor": 5
}
