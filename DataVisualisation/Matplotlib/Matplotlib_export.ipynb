{
 "cells": [
  {
   "cell_type": "markdown",
   "id": "6b1bbe37-8794-448d-bcc3-d2621b0a664d",
   "metadata": {},
   "source": [
    "# Export a figure"
   ]
  },
  {
   "cell_type": "markdown",
   "id": "f4c96ebe-cfbc-48a4-bc5b-7ca606d08287",
   "metadata": {},
   "source": [
    "## Basic imports"
   ]
  },
  {
   "cell_type": "code",
   "execution_count": 1,
   "id": "9f9dac44-ac25-4a2f-98f6-75ef462e269a",
   "metadata": {},
   "outputs": [],
   "source": [
    "import matplotlib as mpl\n",
    "import matplotlib.pyplot as plt"
   ]
  },
  {
   "cell_type": "markdown",
   "id": "07448a76-6208-4ee3-b48c-744ca26408b1",
   "metadata": {},
   "source": [
    "## A figure to export"
   ]
  },
  {
   "cell_type": "code",
   "execution_count": 2,
   "id": "6a8d0681-0e5e-45e0-8921-179d23c615a2",
   "metadata": {},
   "outputs": [],
   "source": [
    "x = [1, 2, 3, 4]\n",
    "y = [0, 6, 1, 2]"
   ]
  },
  {
   "cell_type": "code",
   "execution_count": 3,
   "id": "2c293d8a-f4bb-425e-916d-e05254803a19",
   "metadata": {},
   "outputs": [
    {
     "data": {
      "text/plain": [
       "[<matplotlib.lines.Line2D at 0x285ff2a8b50>]"
      ]
     },
     "execution_count": 3,
     "metadata": {},
     "output_type": "execute_result"
    },
    {
     "data": {
      "image/png": "[encoded data removed]",
      "text/plain": [
       "<Figure size 640x480 with 1 Axes>"
      ]
     },
     "metadata": {},
     "output_type": "display_data"
    }
   ],
   "source": [
    "fig, ax = plt.subplots()\n",
    "ax.plot(x, y)"
   ]
  },
  {
   "cell_type": "markdown",
   "id": "c399b1ba-210f-4f30-838c-9de35139719e",
   "metadata": {},
   "source": [
    "## Setup for export"
   ]
  },
  {
   "cell_type": "code",
   "execution_count": 4,
   "id": "8a91d359-87e2-4ac6-9868-e4177b49d396",
   "metadata": {},
   "outputs": [],
   "source": [
    "import os\n",
    "image_export = os.path.abspath(os.path.join(os.getcwd(), 'images'))"
   ]
  },
  {
   "cell_type": "code",
   "execution_count": 5,
   "id": "c7a27fb7-0a23-4acf-bc96-520ac4f1a629",
   "metadata": {},
   "outputs": [
    {
     "data": {
      "text/plain": [
       "'C:\\\\__CODE\\\\__GitHub\\\\PythonFriday\\\\Jupyter'"
      ]
     },
     "execution_count": 5,
     "metadata": {},
     "output_type": "execute_result"
    }
   ],
   "source": [
    "\n",
    "os.getcwd()"
   ]
  },
  {
   "cell_type": "code",
   "execution_count": 6,
   "id": "5088f180-24a8-440b-96d3-4ba392c7bda3",
   "metadata": {},
   "outputs": [
    {
     "data": {
      "text/plain": [
       "'C:\\\\__CODE\\\\__GitHub\\\\PythonFriday\\\\Jupyter\\\\images'"
      ]
     },
     "execution_count": 6,
     "metadata": {},
     "output_type": "execute_result"
    }
   ],
   "source": [
    "image_export"
   ]
  },
  {
   "cell_type": "markdown",
   "id": "d79d6a62-bb1e-4f47-9a74-d2600189ad1b",
   "metadata": {},
   "source": [
    "## Supported formats"
   ]
  },
  {
   "cell_type": "code",
   "execution_count": 7,
   "id": "3658d539-1873-4a87-b334-82a3cc250af2",
   "metadata": {},
   "outputs": [
    {
     "data": {
      "text/plain": [
       "{'eps': 'Encapsulated Postscript',\n",
       " 'jpg': 'Joint Photographic Experts Group',\n",
       " 'jpeg': 'Joint Photographic Experts Group',\n",
       " 'pdf': 'Portable Document Format',\n",
       " 'pgf': 'PGF code for LaTeX',\n",
       " 'png': 'Portable Network Graphics',\n",
       " 'ps': 'Postscript',\n",
       " 'raw': 'Raw RGBA bitmap',\n",
       " 'rgba': 'Raw RGBA bitmap',\n",
       " 'svg': 'Scalable Vector Graphics',\n",
       " 'svgz': 'Scalable Vector Graphics',\n",
       " 'tif': 'Tagged Image File Format',\n",
       " 'tiff': 'Tagged Image File Format',\n",
       " 'webp': 'WebP Image Format'}"
      ]
     },
     "execution_count": 7,
     "metadata": {},
     "output_type": "execute_result"
    }
   ],
   "source": [
    "fig.canvas.get_supported_filetypes()"
   ]
  },
  {
   "cell_type": "markdown",
   "id": "503a8178-0e32-474c-9667-1916b8f06a08",
   "metadata": {},
   "source": [
    "## Save figure in different formats"
   ]
  },
  {
   "cell_type": "code",
   "execution_count": 8,
   "id": "67bd0af2-e01a-4a94-8f19-de8ca6f2d2db",
   "metadata": {},
   "outputs": [],
   "source": [
    "fig.savefig(image_export + '/figure_save_demo_1.jpg', transparent=False, dpi=200) "
   ]
  },
  {
   "cell_type": "code",
   "execution_count": 9,
   "id": "cc7986c6-916c-41c2-bb5d-e49e5cdfb961",
   "metadata": {},
   "outputs": [],
   "source": [
    "fig.savefig(image_export + '/figure_save_demo_2.jpg', transparent=False, dpi=200, bbox_inches=\"tight\") "
   ]
  },
  {
   "cell_type": "code",
   "execution_count": 10,
   "id": "a4b4d748-6f95-4e73-b825-92c14be4c7c4",
   "metadata": {},
   "outputs": [],
   "source": [
    "fig.savefig(image_export + '/figure_save_demo_3.png', transparent=True, dpi=200, bbox_inches=\"tight\") "
   ]
  },
  {
   "cell_type": "code",
   "execution_count": 11,
   "id": "e115dca8-206f-4fbc-9640-ec33dd28965c",
   "metadata": {},
   "outputs": [],
   "source": [
    "fig.savefig(image_export + '/figure_save_demo_4.svg', transparent=True, dpi=200, bbox_inches=\"tight\") "
   ]
  },
  {
   "cell_type": "code",
   "execution_count": 12,
   "id": "aefe4321-13f8-4885-9cbc-e60410a0d35f",
   "metadata": {},
   "outputs": [],
   "source": [
    "fig.savefig(image_export + '/figure_save_demo_5.pdf', transparent=True, dpi=200, bbox_inches=\"tight\") "
   ]
  }
 ],
 "metadata": {
  "kernelspec": {
   "display_name": "Python 3 (ipykernel)",
   "language": "python",
   "name": "python3"
  },
  "language_info": {
   "codemirror_mode": {
    "name": "ipython",
    "version": 3
   },
   "file_extension": ".py",
   "mimetype": "text/x-python",
   "name": "python",
   "nbconvert_exporter": "python",
   "pygments_lexer": "ipython3",
   "version": "3.11.2"
  }
 },
 "nbformat": 4,
 "nbformat_minor": 5
}
